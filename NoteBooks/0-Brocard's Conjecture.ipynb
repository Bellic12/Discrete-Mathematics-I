{
 "cells": [
  {
   "cell_type": "markdown",
   "metadata": {},
   "source": [
    "# **Brocard Conjecture - Search for counterexamples**\n",
    "\n",
    "## **Introduction**\n",
    "\n",
    "[Brocard's Conjecture](https://en.wikipedia.org/wiki/Brocard%27s_conjecture) is a mathematical problem that poses an interesting relationship between prime numbers. Formulated by the French mathematician Henri Brocard, this conjecture states that there are always at least four prime numbers within the interval between two consecutive squares. In other words, if $p_n$ and $p_{n+1}$ are two consecutive prime numbers, then there will always be at least four prime numbers $p$ such that $p_n^2 < p < p_{n+1}^2$, for all $n ≥ 2$.\n",
    "\n",
    "## **Objective**\n",
    "\n",
    "This notebook presents a program that allows the efficient search for prime numbers within a predefined range, starting from a given index. The implementation of this computational tool is mainly aimed at facilitating the exploration and analysis of prime number sequences in the context of Brocard's Conjecture. By automating the search process, the aim is to provide a flexible and versatile tool that can be used for various purposes related to [number theory](https://en.wikipedia.org/wiki/Number_theory), including the identification of possible counterexamples to the Brocard Conjecture."
   ]
  },
  {
   "cell_type": "markdown",
   "metadata": {},
   "source": [
    "---\n",
    "## **1. Efficient prime number search**\n",
    "\n",
    "The first step in the development of this program was to address the fundamental question: How to efficiently find prime numbers, taking into account computational limitations?\n",
    "\n",
    "To do so, we relied on the [Eratosthenes sieve algorithm](https://en.wikipedia.org/wiki/Sieve_of_Eratosthenes), recognized for its efficiency in finding all prime numbers less than a given integer. This algorithm is based on a straightforward and systematic strategy to identify prime numbers up to a certain limit by iteratively eliminating multiples of the numbers found.\n",
    "\n",
    "The idea behind the algorithm is as follows: \n",
    "\n",
    "1. You start with a list of numbers you want to evaluate (from 2 up to a given number, n).\n",
    "Mark the number 1 as non-prime and start from 2 as the first prime number.\n",
    "3. Go through the list starting from the first prime number (2) and eliminate its multiples, since these cannot be prime.\n",
    "4. We go to the next number not marked as non-prime, which will be the next prime number.\n",
    "5. The process is repeated until all the multiples of the prime numbers found have been marked or eliminated.\n",
    "\n",
    "The code resulting from this algorithm is presented below as the function `sieve_of_eratosthenes`, which takes as input an integer `n` and returns a list of all prime numbers less than `n`."
   ]
  },
  {
   "cell_type": "code",
   "execution_count": 1,
   "metadata": {},
   "outputs": [
    {
     "name": "stdout",
     "output_type": "stream",
     "text": [
      "The prime numbers less than 50 are: [2, 3, 5, 7, 11, 13, 17, 19, 23, 29, 31, 37, 41, 43, 47]\n"
     ]
    }
   ],
   "source": [
    "def sieve_of_Eratosthenes(n):\n",
    "    # Create a list of booleans to mark prime numbers\n",
    "    is_prime = [True] * (n + 1)\n",
    "    # 0 and 1 are not primes, so we mark them as False\n",
    "    is_prime[0] = is_prime[1] = False\n",
    "    \n",
    "    # Iterate over the numbers from 2 to the square root of n\n",
    "    for i in range(2, int(n ** 0.5) + 1):\n",
    "        if is_prime[i]:\n",
    "            # Mark all multiples of i as not prime\n",
    "            for j in range(i * i, n + 1, i):\n",
    "                is_prime[j] = False\n",
    "    \n",
    "    # Return the prime numbers marked as True\n",
    "    return [num for num, prime in enumerate(is_prime) if prime]\n",
    "\n",
    "# Ask the user to enter a natural number and convert it to an integer\n",
    "n = int(input(\"Enter a natural number: \"))\n",
    "\n",
    "# Call the function sieve_of_Eratosthenes to get all prime numbers less than n\n",
    "primes = sieve_of_Eratosthenes(n)\n",
    "\n",
    "# Print the prime numbers less than n\n",
    "print(\"The prime numbers less than\", n, \"are:\", primes)"
   ]
  },
  {
   "cell_type": "markdown",
   "metadata": {},
   "source": [
    "Note that the adaptation of the algorithm to Python presents a couple of optimization improvements given in the pseudo-code of [Sorenson (1990)](https://research.cs.wisc.edu/techreports/1990/TR909.pdf), the most prominent improvements being the limitation of the search range to the square root of the maximum number to be evaluated. This is because, if a composite number has a divisor greater than its square root, then it would also have another divisor less than its square root, implying that it would already have been marked as non-prime.\n",
    "\n",
    "Another key optimization is to avoid checking multiples of numbers already marked as non-prime more than once. This is achieved by modifying the iteration range in the inner loop to start from the square of the current number, rather than starting from twice the current number."
   ]
  },
  {
   "cell_type": "markdown",
   "metadata": {},
   "source": [
    "*It should be noted that, although the `sieve_of_eratosthenes` function is not used in the final code, it is included here for reference purposes and to demonstrate the effectiveness of the algorithm in finding prime numbers, since it is the basis for the implementation of the `get_primes` and `get_primes_in_interval` function used in the main algorithm.*"
   ]
  },
  {
   "cell_type": "markdown",
   "metadata": {},
   "source": [
    "---\n",
    "## **2. Getting the nth prime number**\n",
    "\n",
    "The next step in the development of the program was the implementation of a function to obtain the nth prime number, that is, the prime number that occupies a specific position in the sequence of prime numbers. For this purpose, the function `get_primes` was developed, which takes as input an integer `n` and returns the nth and the (n+1)-nth prime number in the form of a list.\n",
    "\n",
    "The algorithm implemented for this function is based on searching for prime numbers using the Eratosthenes sieve algorithm, but with a more efficient search strategy. Instead of searching for all prime numbers less than a given number, the `get_prime` function uses an iterative approach to find the nth prime number, starting from the number 2 and progressing until the desired prime numbers are found."
   ]
  },
  {
   "cell_type": "code",
   "execution_count": 2,
   "metadata": {},
   "outputs": [],
   "source": [
    "def get_primes(n):\n",
    "    # Initialize the size of the boolean list\n",
    "    size = 100\n",
    "    \n",
    "    # Infinite loop that breaks when enough primes have been found\n",
    "    while True:\n",
    "        # Initialize a list of booleans to mark prime numbers\n",
    "        is_prime = [True] * size\n",
    "        # Initialize the list of primes with the first prime, 2\n",
    "        primes = [2]\n",
    "        \n",
    "        # Mark all even numbers greater than 2 as not prime\n",
    "        for i in range(4, size, 2):\n",
    "            is_prime[i] = False\n",
    "            \n",
    "        # For each odd number, if it's prime, add it to the list of primes\n",
    "        # and mark its multiples as not prime\n",
    "        for i in range(3, size, 2):\n",
    "            if is_prime[i]:\n",
    "                primes.append(i)\n",
    "                \n",
    "                # If the number is less than or equal to the square root of the size,\n",
    "                # mark its multiples as not prime\n",
    "                if i <= (size**0.5):\n",
    "                    for j in range(i * i, size, 2 * i):\n",
    "                        is_prime[j] = False\n",
    "                        \n",
    "            # If enough primes have been found, return the nth and (n+1)th prime\n",
    "            if len(primes) == n + 1:\n",
    "                return [primes[n - 1], primes[n]]\n",
    "            \n",
    "        # If not enough primes have been found, double the size and repeat the process\n",
    "        size *= 2"
   ]
  },
  {
   "cell_type": "markdown",
   "metadata": {},
   "source": [
    "---\n",
    "\n",
    "## **3. Obtain the prime numbers in a range**\n",
    "\n",
    "As a next step in the development of the program, a function was implemented to get all prime numbers within a given range. The function `get_prime_numbers_in_interval` takes as input two integers `a` and `b` and returns a list of all prime numbers that lie in the interval [a, b]."
   ]
  },
  {
   "cell_type": "code",
   "execution_count": 3,
   "metadata": {},
   "outputs": [],
   "source": [
    "def get_primes_in_interval(a, b):\n",
    "    # Calculate the start and end of the interval in which the prime numbers will be searched\n",
    "    start = a * a\n",
    "    end = b * b\n",
    "    \n",
    "    # Initialize a list of booleans to mark the prime numbers\n",
    "    # The first two elements are False because 0 and 1 are not primes\n",
    "    is_prime = [False, False] + [True] * (end - 1)\n",
    "    \n",
    "    # For each number up to the square root of the end of the interval,\n",
    "    # if the number is prime, mark its multiples as not prime\n",
    "    for i in range(int(end**0.5) + 1):\n",
    "        if is_prime[i]:\n",
    "            for j in range(i * i, end + 1, i):\n",
    "                is_prime[j] = False\n",
    "                \n",
    "    # Return a list of all the prime numbers in the interval\n",
    "    return [x for x in range(start, end + 1) if is_prime[x]]"
   ]
  },
  {
   "cell_type": "markdown",
   "metadata": {},
   "source": [
    "---\n",
    "## **4. Execution of the program**\n",
    "\n",
    "Finally, the functions worked throughout the workbook were implemented in such a way that they complement each other and allow the search for prime numbers in a given range from the only input, the index of the prime number to be found. This provides a computational tool that facilitates the exploration and analysis of prime number sequences for the search of counterexamples in the context of Brocard's Conjecture."
   ]
  },
  {
   "cell_type": "code",
   "execution_count": 4,
   "metadata": {},
   "outputs": [
    {
     "name": "stdout",
     "output_type": "stream",
     "text": [
      "4 or more primes were found within the interval. Brocard's conjecture holds for the prime number 5.\n",
      "The numbers within the interval [11^2 (121), 13^2 (169)] are: [127, 131, 137, 139, 149, 151, 157, 163, 167]\n",
      "Thank you for using the program!\n"
     ]
    }
   ],
   "source": [
    "def main():\n",
    "    n = int(input(\"Enter the index of the prime to test: \"))\n",
    "    while n <= 1:\n",
    "        print(\"The entered number is not valid for the conjecture. Please, try again.\")\n",
    "        n = int(input(\"Enter the index of the prime to test: \"))\n",
    "\n",
    "    primes = get_primes(n)\n",
    "    primes_in_range = get_primes_in_interval(primes[0], primes[1])\n",
    "\n",
    "    if len(primes_in_range) < 4:\n",
    "        print(\"A counter-example for the Brocard's conjecture was found.\")\n",
    "    else:\n",
    "        print(f\"4 or more primes were found within the interval. Brocard's conjecture holds for the prime number {n}.\")\n",
    "\n",
    "    choice = input(f\"Do you want to print the prime numbers in the interval [{primes[0]}^2 ({primes[0] * primes[0]}), {primes[1]}^2 ({primes[1] * primes[1]})]? (y/n):\")\n",
    "    if choice.lower() == \"y\":\n",
    "        print(f\"The numbers within the interval [{primes[0]}^2 ({primes[0] * primes[0]}), {primes[1]}^2 ({primes[1] * primes[1]})] are:\", primes_in_range)\n",
    "\n",
    "    print(\"Thank you for using the program!\")\n",
    "    \n",
    "main()"
   ]
  },
  {
   "cell_type": "markdown",
   "metadata": {},
   "source": [
    "---\n",
    "\n",
    "## **Opportunities for code improvement**\n",
    "\n",
    "The program faces performance limitations when working with large numbers due to its high computational complexity and inefficient memory usage. Although a code port to C++ was performed to improve efficiency, this version could not be documented due to Jupyter Notebook's limitations with C++ code execution. It would be beneficial to implement more advanced optimization techniques in Python to improve the execution speed and scalability of the program, especially in searching for large primes. This would increase its usefulness for analysis with large volumes of data.\n",
    "\n",
    "## **Version and hardware information**"
   ]
  },
  {
   "cell_type": "code",
   "execution_count": 5,
   "metadata": {},
   "outputs": [
    {
     "name": "stdout",
     "output_type": "stream",
     "text": [
      "Python implementation: CPython\n",
      "Python version       : 3.12.2\n",
      "IPython version      : 8.21.0\n",
      "\n",
      "Compiler    : MSC v.1937 64 bit (AMD64)\n",
      "OS          : Windows\n",
      "Release     : 11\n",
      "Machine     : AMD64\n",
      "Processor   : Intel64 Family 6 Model 141 Stepping 1, GenuineIntel\n",
      "CPU cores   : 12\n",
      "Architecture: 64bit\n",
      "\n"
     ]
    }
   ],
   "source": [
    "%reload_ext watermark\n",
    "%watermark -v -m"
   ]
  }
 ],
 "metadata": {
  "kernelspec": {
   "display_name": "Python 3",
   "language": "python",
   "name": "python3"
  },
  "language_info": {
   "codemirror_mode": {
    "name": "ipython",
    "version": 3
   },
   "file_extension": ".py",
   "mimetype": "text/x-python",
   "name": "python",
   "nbconvert_exporter": "python",
   "pygments_lexer": "ipython3",
   "version": "3.12.2"
  }
 },
 "nbformat": 4,
 "nbformat_minor": 2
}
