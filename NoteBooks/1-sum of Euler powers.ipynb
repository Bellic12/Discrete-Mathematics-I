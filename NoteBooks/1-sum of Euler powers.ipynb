{
 "cells": [
  {
   "cell_type": "markdown",
   "metadata": {},
   "source": [
    "# **Counterexample to Euler's power sum conjecture**\n",
    "\n",
    "## **Introduction**\n",
    "The [Euler power sum conjecture](https://en.wikipedia.org/wiki/Euler%27s_sum_of_powers_conjecture) states that for any integer $n$ and $k$, both greater than 1, if the sum of n terms, each raised to the power $k$, results in another number raised to the power $k$, then the number of n terms must be greater than or equal to the power $k$. That is, if $a_1^k + a_2^k + .... + a_n^k = b^k$, then $n ≥ k$.\n",
    "\n",
    "## **Objective**\n",
    "\n",
    "The objective of this paper is to present a counterexample to Euler's conjecture, i.e., to present a set of numbers that satisfies the equality of the conjecture, but the number of $n$ terms is less than the power $k$. In this case, a counterexample will be presented for the case $k=4$."
   ]
  },
  {
   "cell_type": "markdown",
   "metadata": {},
   "source": [
    "---\n",
    "\n",
    "## **Counter-example**\n",
    "\n",
    "The counter-example, represented in Python code, is as follows:"
   ]
  },
  {
   "cell_type": "code",
   "execution_count": 1,
   "metadata": {},
   "outputs": [
    {
     "name": "stdout",
     "output_type": "stream",
     "text": [
      "84229075969600000000 + 2238663363846304960321 + 29535857400192040960000 = 31858749840007945920321\n",
      "2322892439815904960321 + 29535857400192040960000 = 31858749840007945920321\n",
      "31858749840007945920321 = 31858749840007945920321\n",
      "A correct counter-example has been found, the conjecture is false.\n"
     ]
    }
   ],
   "source": [
    "# Define the values of the variables\n",
    "a = 95800\n",
    "b = 217519\n",
    "c = 414560\n",
    "d = 422481\n",
    "\n",
    "# Calculate the fourth powers of the values\n",
    "a4 = a ** 4\n",
    "b4 = b ** 4\n",
    "c4 = c ** 4\n",
    "d4 = d ** 4\n",
    "\n",
    "# Check if the condition of the conjecture is met with these values\n",
    "if a4 + b4 + c4 == d4:\n",
    "    # If it is met, print the counter-example\n",
    "    print(f\"{a4} + {b4} + {c4} = {d4}\")\n",
    "    print(f\"{a4 + b4} + {c4} = {d4}\")\n",
    "    print(f\"{a4 + b4 + c4} = {d4}\")\n",
    "    print(\"A correct counter-example has been found, the conjecture is false.\")\n",
    "else:\n",
    "    # If it is not met, indicate that the counter-example is false\n",
    "    print(\"The counter-example is false, the conjecture seems to be true.\")"
   ]
  },
  {
   "cell_type": "markdown",
   "metadata": {},
   "source": [
    "As can be seen, the numbers $a$, $b$, $c$ and $d$ satisfy the condition $a^4 + b^4 + c^4 = d^4$, which contradicts Euler's sum of powers conjecture for n=4, showing that the conjecture is not valid for all cases."
   ]
  },
  {
   "cell_type": "markdown",
   "metadata": {},
   "source": [
    "---\n",
    "\n",
    "## **Version and hardware information**"
   ]
  },
  {
   "cell_type": "code",
   "execution_count": 2,
   "metadata": {},
   "outputs": [
    {
     "name": "stdout",
     "output_type": "stream",
     "text": [
      "Python implementation: CPython\n",
      "Python version       : 3.12.2\n",
      "IPython version      : 8.21.0\n",
      "\n",
      "Compiler    : MSC v.1937 64 bit (AMD64)\n",
      "OS          : Windows\n",
      "Release     : 11\n",
      "Machine     : AMD64\n",
      "Processor   : Intel64 Family 6 Model 141 Stepping 1, GenuineIntel\n",
      "CPU cores   : 12\n",
      "Architecture: 64bit\n",
      "\n"
     ]
    }
   ],
   "source": [
    "%reload_ext watermark\n",
    "%watermark -v -m"
   ]
  }
 ],
 "metadata": {
  "kernelspec": {
   "display_name": "Python 3",
   "language": "python",
   "name": "python3"
  },
  "language_info": {
   "codemirror_mode": {
    "name": "ipython",
    "version": 3
   },
   "file_extension": ".py",
   "mimetype": "text/x-python",
   "name": "python",
   "nbconvert_exporter": "python",
   "pygments_lexer": "ipython3",
   "version": "3.12.2"
  }
 },
 "nbformat": 4,
 "nbformat_minor": 2
}
